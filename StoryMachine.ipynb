{
 "cells": [
  {
   "cell_type": "markdown",
   "id": "d7dff8d4",
   "metadata": {},
   "source": [
    "# Task 1: Find the “Post Date”"
   ]
  },
  {
   "cell_type": "markdown",
   "id": "5a1cff6c",
   "metadata": {},
   "source": [
    "## Problem Statement\n",
    "\n",
    "**To obtain human readable date from the Linkedin post of an account which went online, provided encrypted URL in a CSV file.**"
   ]
  },
  {
   "cell_type": "code",
   "execution_count": 142,
   "id": "683d680f",
   "metadata": {},
   "outputs": [],
   "source": [
    "#Importing necessary libraries\n",
    "import pandas as pd\n",
    "import numpy as np\n",
    "import re\n",
    "import seaborn as sns\n",
    "import matplotlib.pyplot as plt\n",
    "\n",
    "#For modelling\n",
    "from sentence_transformers import SentenceTransformer\n",
    "from gensim.models import LdaModel\n",
    "from gensim.corpora import Dictionary\n",
    "from gensim.utils import simple_preprocess"
   ]
  },
  {
   "cell_type": "code",
   "execution_count": 143,
   "id": "f7168aa9",
   "metadata": {},
   "outputs": [],
   "source": [
    "#Reading dataset\n",
    "df = pd.read_csv(\"test_data.csv\")"
   ]
  },
  {
   "cell_type": "code",
   "execution_count": 144,
   "id": "1b2bd34f",
   "metadata": {},
   "outputs": [
    {
     "name": "stdout",
     "output_type": "stream",
     "text": [
      "-------------------------------------------------------Shape of Dataset------------------------------------------------------\n",
      "Rows:866\n",
      "Columns:6\n",
      "----------------------------------------------------------Data Head----------------------------------------------------------\n",
      "                                             postUrl action     type  \\\n",
      "0  https://www.linkedin.com/feed/update/urn:li:ac...   Post  Article   \n",
      "1  https://www.linkedin.com/feed/update/urn:li:ac...   Post  Article   \n",
      "2  https://www.linkedin.com/feed/update/urn:li:ac...   Post  Article   \n",
      "3  https://www.linkedin.com/feed/update/urn:li:ac...   Post  Article   \n",
      "4  https://www.linkedin.com/feed/update/urn:li:ac...   Post    Image   \n",
      "\n",
      "                                         postContent  likeCount  commentCount  \n",
      "0  Personalized learning, inclusive environments,...       2158           212  \n",
      "1  It's fascinating to see how much we can still ...       1326           131  \n",
      "2  AI is the most transformative technology any o...       7254           360  \n",
      "3  While AI will impact jobs, it can also enhance...       3596           245  \n",
      "4  I’m really excited about my new podcast. Join ...       3767           154  \n",
      "----------------------------------------------------------Data Types---------------------------------------------------------\n",
      "postUrl         object\n",
      "action          object\n",
      "type            object\n",
      "postContent     object\n",
      "likeCount        int64\n",
      "commentCount     int64\n",
      "dtype: object\n",
      "----------------------------------------------------------Duplicates---------------------------------------------------------\n",
      "0\n",
      "--------------------------------------------------------Missing Values-------------------------------------------------------\n",
      "postContent     20\n",
      "postUrl          0\n",
      "action           0\n",
      "type             0\n",
      "likeCount        0\n",
      "commentCount     0\n",
      "dtype: int64\n"
     ]
    }
   ],
   "source": [
    "def data_explore(df):\n",
    "    print(\"Shape of Dataset\".center(125,\"-\"))\n",
    "    print(\"Rows:{}\".format(df.shape[0]))\n",
    "    print(\"Columns:{}\".format(df.shape[1]))\n",
    "    print(\"Data Head\".center(125,\"-\"))\n",
    "    print(df.head(5))\n",
    "    print(\"Data Types\".center(125,\"-\"))\n",
    "    print(df.dtypes)\n",
    "    print(\"Duplicates\".center(125,\"-\"))\n",
    "    print(df.duplicated().sum())\n",
    "    print(\"Missing Values\".center(125,\"-\"))\n",
    "    print(df.isnull().sum().sort_values(ascending=False))\n",
    "data_explore(df)"
   ]
  },
  {
   "cell_type": "code",
   "execution_count": 145,
   "id": "fd8151c7",
   "metadata": {},
   "outputs": [],
   "source": [
    "#Dropping NaN's from postContent attribute since they are important attribute for modelling\n",
    "df.dropna(subset=\"postContent\",axis=0,inplace=True)"
   ]
  },
  {
   "cell_type": "code",
   "execution_count": 146,
   "id": "d2f289ea",
   "metadata": {},
   "outputs": [
    {
     "name": "stdout",
     "output_type": "stream",
     "text": [
      "------------------------------------------------shape of data after cleaning :-----------------------------------------------\n",
      "(846, 6)\n"
     ]
    }
   ],
   "source": [
    "print(\"shape of data after cleaning :\".center(125,\"-\"))\n",
    "print( df.shape)"
   ]
  },
  {
   "cell_type": "markdown",
   "id": "bc5d7055",
   "metadata": {},
   "source": [
    "## Feature Engineering"
   ]
  },
  {
   "cell_type": "markdown",
   "id": "516093c6",
   "metadata": {},
   "source": [
    "#### 1. Extracting digits from url"
   ]
  },
  {
   "cell_type": "code",
   "execution_count": 147,
   "id": "988a00c1",
   "metadata": {},
   "outputs": [
    {
     "data": {
      "text/plain": [
       "0    7086118852786356224\n",
       "1    7085672835347611648\n",
       "Name: postId, dtype: object"
      ]
     },
     "execution_count": 147,
     "metadata": {},
     "output_type": "execute_result"
    }
   ],
   "source": [
    "def extract_numbers_from_url(url):\n",
    "    pattern = r'\\d+'\n",
    "    numbers = re.findall(pattern, url)\n",
    "    return ''.join(numbers)\n",
    "\n",
    "# Apply the function to the 'URL' column and create a new column 'Digits'\n",
    "df['postId'] = df['postUrl'].apply(extract_numbers_from_url)\n",
    "df['postId'].head(2)"
   ]
  },
  {
   "cell_type": "markdown",
   "id": "0af9bf13",
   "metadata": {},
   "source": [
    "#### 2. Converting to binary form"
   ]
  },
  {
   "cell_type": "code",
   "execution_count": 148,
   "id": "8287730c",
   "metadata": {},
   "outputs": [
    {
     "data": {
      "text/plain": [
       "0    1100010010101101111001110001101100000001000011...\n",
       "1    1100010010101010101110111100110111110011000011...\n",
       "Name: binaryId, dtype: object"
      ]
     },
     "execution_count": 148,
     "metadata": {},
     "output_type": "execute_result"
    }
   ],
   "source": [
    "df['postId'] = df['postId'].apply(lambda x: int(x))\n",
    "df['binaryId'] = df['postId'].apply(lambda x: bin(x)[2:])\n",
    "df['binaryId'].head(2)"
   ]
  },
  {
   "cell_type": "markdown",
   "id": "ef673256",
   "metadata": {},
   "source": [
    "#### 3. Getting only left most 41 digit "
   ]
  },
  {
   "cell_type": "code",
   "execution_count": 149,
   "id": "1d33ecdf",
   "metadata": {},
   "outputs": [
    {
     "data": {
      "text/plain": [
       "0    11000100101011011110011100011011000000010\n",
       "1    11000100101010101011101111001101111100110\n",
       "Name: binaryId, dtype: object"
      ]
     },
     "execution_count": 149,
     "metadata": {},
     "output_type": "execute_result"
    }
   ],
   "source": [
    "df['binaryId'] = df['binaryId'].apply(lambda x: x[:41])\n",
    "df['binaryId'].head(2)"
   ]
  },
  {
   "cell_type": "markdown",
   "id": "7b593e27",
   "metadata": {},
   "source": [
    "#### 4. Converting back to decimal form"
   ]
  },
  {
   "cell_type": "code",
   "execution_count": 150,
   "id": "e9a16e2d",
   "metadata": {},
   "outputs": [
    {
     "data": {
      "text/plain": [
       "0    1689462388226\n",
       "1    1689356049382\n",
       "Name: decimalId, dtype: int64"
      ]
     },
     "execution_count": 150,
     "metadata": {},
     "output_type": "execute_result"
    }
   ],
   "source": [
    "df['decimalId'] = df['binaryId'].apply(lambda x: int(x, 2))\n",
    "df['decimalId'].head(2)"
   ]
  },
  {
   "cell_type": "markdown",
   "id": "e134dd26",
   "metadata": {},
   "source": [
    "#### 5. Obtaining UNIX timestamp"
   ]
  },
  {
   "cell_type": "code",
   "execution_count": 151,
   "id": "cc1ed859",
   "metadata": {},
   "outputs": [
    {
     "data": {
      "text/plain": [
       "0     2023-07-15 23:06:28.226000128\n",
       "1     2023-07-14 17:34:09.381999872\n",
       "2     2023-07-13 21:44:37.585999872\n",
       "3     2023-07-11 18:34:04.776999936\n",
       "4     2023-07-10 16:46:59.665999872\n",
       "                   ...             \n",
       "842   2015-03-20 21:40:37.539000064\n",
       "844   2015-03-18 21:33:11.880999936\n",
       "859   2014-02-20 21:30:51.787000064\n",
       "862   2013-12-30 21:25:26.956999936\n",
       "864   2013-12-04 01:23:44.119000064\n",
       "Name: postDate, Length: 846, dtype: datetime64[ns]"
      ]
     },
     "execution_count": 151,
     "metadata": {},
     "output_type": "execute_result"
    }
   ],
   "source": [
    "df['postDate'] = df['decimalId'].apply(lambda x: pd.to_datetime(x / 1000, unit='s'))\n",
    "df['postDate']"
   ]
  },
  {
   "cell_type": "code",
   "execution_count": null,
   "id": "fbec8deb",
   "metadata": {},
   "outputs": [],
   "source": []
  },
  {
   "cell_type": "markdown",
   "id": "2be3c6a6",
   "metadata": {},
   "source": [
    "# Task 2 : Contextual Topic modelling"
   ]
  },
  {
   "cell_type": "markdown",
   "id": "e4a177cb",
   "metadata": {},
   "source": [
    "## Problem Statement\n",
    "\n",
    "**To obtain clusters w.r.t postContent**"
   ]
  },
  {
   "cell_type": "markdown",
   "id": "2ca4fd95",
   "metadata": {},
   "source": [
    "#### 1. Preporcessing"
   ]
  },
  {
   "cell_type": "code",
   "execution_count": 152,
   "id": "a348e773",
   "metadata": {},
   "outputs": [],
   "source": [
    "# Considering the posts from Jan 2021 onwards\n",
    "df = df[df['postDate'] >= '2021-01-01']"
   ]
  },
  {
   "cell_type": "code",
   "execution_count": 153,
   "id": "a25fba32",
   "metadata": {},
   "outputs": [],
   "source": [
    "#Creating embeddings using Sentence Transformers\n",
    "post_content = df['postContent'].tolist()\n",
    "model = SentenceTransformer('paraphrase-MiniLM-L6-v2')\n",
    "embeddings = model.encode(post_content)"
   ]
  },
  {
   "cell_type": "markdown",
   "id": "1e982ca0",
   "metadata": {},
   "source": [
    "#### 2. Modelling"
   ]
  },
  {
   "cell_type": "code",
   "execution_count": 154,
   "id": "348ab161",
   "metadata": {},
   "outputs": [],
   "source": [
    "#Applying LDA for topic modeling\n",
    "tokenized_posts = [simple_preprocess(post, deacc=True) for post in post_content]\n",
    "dictionary = Dictionary(tokenized_posts)\n",
    "corpus = [dictionary.doc2bow(doc) for doc in tokenized_posts]\n",
    "#recommended 10 clusters for simplicity.\n",
    "lda_model = LdaModel(corpus, num_topics=10, id2word=dictionary)"
   ]
  },
  {
   "cell_type": "markdown",
   "id": "9c061edc",
   "metadata": {},
   "source": [
    "#### 3. Feature Engineering"
   ]
  },
  {
   "cell_type": "code",
   "execution_count": 155,
   "id": "b98283e2",
   "metadata": {},
   "outputs": [],
   "source": [
    "# Adding topic clusters to the df\n",
    "df['topic_cluster'] = [max(lda_model[doc], key=lambda x: x[1])[0] for doc in corpus]\n",
    "\n",
    "# Calculating engagement for each post (given , Engagement = likeCount + commentCount)\n",
    "df['engagement'] = df['likeCount'] + df['commentCount']\n"
   ]
  },
  {
   "cell_type": "code",
   "execution_count": 156,
   "id": "823189f6",
   "metadata": {},
   "outputs": [],
   "source": [
    "average_engagement = df.groupby('topic_cluster')['engagement'].mean().reset_index()"
   ]
  },
  {
   "cell_type": "markdown",
   "id": "37b2e265",
   "metadata": {},
   "source": [
    "#### 4.Visualizing average engagement of each topic cluster."
   ]
  },
  {
   "cell_type": "code",
   "execution_count": 157,
   "id": "93887a69",
   "metadata": {},
   "outputs": [
    {
     "data": {
      "image/png": "[encoded data removed]",
      "text/plain": [
       "<Figure size 720x432 with 1 Axes>"
      ]
     },
     "metadata": {
      "needs_background": "light"
     },
     "output_type": "display_data"
    }
   ],
   "source": [
    "plt.figure(figsize=(10, 6))\n",
    "sns.barplot(data=average_engagement, x='topic_cluster', y='engagement')\n",
    "plt.xlabel('Topic Cluster')\n",
    "plt.ylabel('Average Engagement')\n",
    "plt.title('Average Engagement per Topic Cluster')\n",
    "plt.show()"
   ]
  }
 ],
 "metadata": {
  "kernelspec": {
   "display_name": "Python 3 (ipykernel)",
   "language": "python",
   "name": "python3"
  },
  "language_info": {
   "codemirror_mode": {
    "name": "ipython",
    "version": 3
   },
   "file_extension": ".py",
   "mimetype": "text/x-python",
   "name": "python",
   "nbconvert_exporter": "python",
   "pygments_lexer": "ipython3",
   "version": "3.9.12"
  }
 },
 "nbformat": 4,
 "nbformat_minor": 5
}
